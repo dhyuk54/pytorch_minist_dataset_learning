{
 "cells": [
  {
   "cell_type": "markdown",
   "metadata": {},
   "source": [
    "### Mnist データセット：\n",
    "\n",
    "- ニュローンネットワーク　仕組み理解\n",
    "\n",
    "- torch.nn.functionalについて学習\n",
    "\n",
    "- nn.Moduleモジュール学習\n"
   ]
  },
  {
   "cell_type": "markdown",
   "metadata": {},
   "source": []
  },
  {
   "cell_type": "code",
   "execution_count": 1,
   "metadata": {
    "collapsed": true,
    "ExecuteTime": {
     "end_time": "2024-03-16T12:36:33.487235Z",
     "start_time": "2024-03-16T12:36:31.806470Z"
    }
   },
   "outputs": [],
   "source": [
    "%matplotlib inline"
   ]
  },
  {
   "cell_type": "code",
   "execution_count": 2,
   "metadata": {
    "collapsed": true,
    "ExecuteTime": {
     "end_time": "2024-03-16T12:36:33.539567Z",
     "start_time": "2024-03-16T12:36:33.488812Z"
    }
   },
   "outputs": [],
   "source": [
    "from pathlib import Path\n",
    "import requests\n",
    "\n",
    "DATA_PATH = Path(\"data\")\n",
    "PATH = DATA_PATH / \"mnist\"\n",
    "\n",
    "PATH.mkdir(parents=True, exist_ok=True)\n",
    "\n",
    "URL = \"http://deeplearning.net/data/mnist/\"\n",
    "FILENAME = \"mnist.pkl.gz\"\n",
    "\n",
    "if not (PATH / FILENAME).exists():\n",
    "        content = requests.get(URL + FILENAME).content\n",
    "        (PATH / FILENAME).open(\"wb\").write(content)"
   ]
  },
  {
   "cell_type": "code",
   "execution_count": 3,
   "metadata": {
    "collapsed": true,
    "ExecuteTime": {
     "end_time": "2024-03-16T12:36:34.845082Z",
     "start_time": "2024-03-16T12:36:33.542086Z"
    }
   },
   "outputs": [],
   "source": [
    "import pickle\n",
    "import gzip\n",
    "\n",
    "with gzip.open((PATH / FILENAME).as_posix(), \"rb\") as f:\n",
    "        ((x_train, y_train), (x_valid, y_valid), _) = pickle.load(f, encoding=\"latin-1\")"
   ]
  },
  {
   "cell_type": "markdown",
   "metadata": {},
   "source": [
    "784是mnist数据集每个样本的像素点个数"
   ]
  },
  {
   "cell_type": "code",
   "execution_count": 4,
   "metadata": {
    "ExecuteTime": {
     "end_time": "2024-03-16T12:36:35.035208Z",
     "start_time": "2024-03-16T12:36:34.854249Z"
    }
   },
   "outputs": [
    {
     "name": "stdout",
     "output_type": "stream",
     "text": [
      "(50000, 784)\n"
     ]
    },
    {
     "data": {
      "text/plain": "<Figure size 640x480 with 1 Axes>",
      "image/png": "[encoded data removed]"
     },
     "metadata": {},
     "output_type": "display_data"
    }
   ],
   "source": [
    "from matplotlib import pyplot\n",
    "import numpy as np\n",
    "\n",
    "pyplot.imshow(x_train[0].reshape((28, 28)), cmap=\"gray\")\n",
    "print(x_train.shape)"
   ]
  },
  {
   "cell_type": "markdown",
   "source": [],
   "metadata": {
    "collapsed": false
   }
  },
  {
   "cell_type": "markdown",
   "metadata": {},
   "source": [
    "<img src=\"./img/4.png\" alt=\"FAO\" width=\"790\">"
   ]
  },
  {
   "cell_type": "markdown",
   "metadata": {},
   "source": [
    "<img src=\".img/5.png\" alt=\"FAO\" width=\"790\">"
   ]
  },
  {
   "cell_type": "markdown",
   "metadata": {},
   "source": [
    "データセットをTensorを切り替えからモデリングが立ち上げられる\n"
   ]
  },
  {
   "cell_type": "code",
   "execution_count": 5,
   "metadata": {
    "ExecuteTime": {
     "end_time": "2024-03-16T12:36:38.924794Z",
     "start_time": "2024-03-16T12:36:35.037513Z"
    }
   },
   "outputs": [
    {
     "name": "stdout",
     "output_type": "stream",
     "text": [
      "tensor([[0., 0., 0.,  ..., 0., 0., 0.],\n",
      "        [0., 0., 0.,  ..., 0., 0., 0.],\n",
      "        [0., 0., 0.,  ..., 0., 0., 0.],\n",
      "        ...,\n",
      "        [0., 0., 0.,  ..., 0., 0., 0.],\n",
      "        [0., 0., 0.,  ..., 0., 0., 0.],\n",
      "        [0., 0., 0.,  ..., 0., 0., 0.]]) tensor([5, 0, 4,  ..., 8, 4, 8])\n",
      "torch.Size([50000, 784])\n",
      "tensor(0) tensor(9)\n"
     ]
    }
   ],
   "source": [
    "import torch\n",
    "\n",
    "x_train, y_train, x_valid, y_valid = map(\n",
    "    torch.tensor, (x_train, y_train, x_valid, y_valid)\n",
    ")\n",
    "n, c = x_train.shape\n",
    "x_train, x_train.shape, y_train.min(), y_train.max()\n",
    "print(x_train, y_train)\n",
    "print(x_train.shape)\n",
    "print(y_train.min(), y_train.max())"
   ]
  },
  {
   "cell_type": "markdown",
   "metadata": {},
   "source": [
    "### torch.nn.functional 很多层和函数在这里都会见到\n",
    "\n",
    "torch.nn.functional中有很多功能，后续会常用的。那什么时候使用nn.Module，什么时候使用nn.functional呢？一般情况下，如果模型有可学习的参数，最好用nn.Module，其他情况nn.functional相对更简单一些"
   ]
  },
  {
   "cell_type": "code",
   "execution_count": 6,
   "metadata": {
    "collapsed": true,
    "ExecuteTime": {
     "end_time": "2024-03-16T12:36:38.926901Z",
     "start_time": "2024-03-16T12:36:38.917664Z"
    }
   },
   "outputs": [],
   "source": [
    "import torch.nn.functional as F\n",
    "\n",
    "loss_func = F.cross_entropy\n",
    "\n",
    "def model(xb):\n",
    "    return xb.mm(weights) + bias"
   ]
  },
  {
   "cell_type": "code",
   "execution_count": 7,
   "metadata": {
    "ExecuteTime": {
     "end_time": "2024-03-16T12:36:38.999405Z",
     "start_time": "2024-03-16T12:36:38.930464Z"
    }
   },
   "outputs": [
    {
     "name": "stdout",
     "output_type": "stream",
     "text": [
      "tensor(13.1396, grad_fn=<NllLossBackward0>)\n"
     ]
    }
   ],
   "source": [
    "bs = 64   # batch size\n",
    "xb = x_train[0:bs]  #  64サンプル データ\n",
    "yb = y_train[0:bs]  #  64サンプル label\n",
    "weights = torch.randn([784, 10], dtype = torch.float,  requires_grad = True)  # ランダムで　weight 初期化パラメータ28 * 28 = 784個 weight生成 \n",
    "bs = 64\n",
    "bias = torch.zeros(10, requires_grad=True)\n",
    "\n",
    "print(loss_func(model(xb), yb))"
   ]
  },
  {
   "cell_type": "markdown",
   "metadata": {},
   "source": [
    "### 创建一个model来更简化代码"
   ]
  },
  {
   "cell_type": "code",
   "execution_count": 8,
   "metadata": {
    "collapsed": true,
    "ExecuteTime": {
     "end_time": "2024-03-16T12:36:39.001422Z",
     "start_time": "2024-03-16T12:36:38.964039Z"
    }
   },
   "outputs": [],
   "source": [
    "from torch import nn\n",
    "\n",
    "class Mnist_NN(nn.Module):\n",
    "    def __init__(self):\n",
    "        super().__init__()\n",
    "        self.hidden1 = nn.Linear(784, 128)\n",
    "        self.hidden2 = nn.Linear(128, 256)\n",
    "        self.out  = nn.Linear(256, 10)\n",
    "\n",
    "    def forward(self, x):\n",
    "        x = F.relu(self.hidden1(x))\n",
    "        x = F.relu(self.hidden2(x))\n",
    "        x = self.out(x)\n",
    "        return x\n",
    "        "
   ]
  },
  {
   "cell_type": "code",
   "execution_count": 9,
   "metadata": {
    "ExecuteTime": {
     "end_time": "2024-03-16T12:36:39.002532Z",
     "start_time": "2024-03-16T12:36:38.972691Z"
    }
   },
   "outputs": [
    {
     "name": "stdout",
     "output_type": "stream",
     "text": [
      "Mnist_NN(\n",
      "  (hidden1): Linear(in_features=784, out_features=128, bias=True)\n",
      "  (hidden2): Linear(in_features=128, out_features=256, bias=True)\n",
      "  (out): Linear(in_features=256, out_features=10, bias=True)\n",
      ")\n"
     ]
    }
   ],
   "source": [
    "net = Mnist_NN()\n",
    "print(net)\n"
   ]
  },
  {
   "cell_type": "markdown",
   "metadata": {},
   "source": []
  },
  {
   "cell_type": "code",
   "execution_count": 10,
   "metadata": {
    "ExecuteTime": {
     "end_time": "2024-03-16T12:36:39.003969Z",
     "start_time": "2024-03-16T12:36:38.978414Z"
    }
   },
   "outputs": [
    {
     "name": "stdout",
     "output_type": "stream",
     "text": [
      "hidden1.weight Parameter containing:\n",
      "tensor([[-0.0130,  0.0304,  0.0006,  ...,  0.0244, -0.0337,  0.0062],\n",
      "        [ 0.0024, -0.0222, -0.0252,  ...,  0.0004,  0.0063, -0.0030],\n",
      "        [-0.0231, -0.0187, -0.0322,  ..., -0.0043,  0.0310, -0.0186],\n",
      "        ...,\n",
      "        [-0.0193,  0.0300,  0.0054,  ...,  0.0241, -0.0084,  0.0355],\n",
      "        [ 0.0335, -0.0145,  0.0065,  ..., -0.0318, -0.0079, -0.0300],\n",
      "        [-0.0347, -0.0315,  0.0265,  ..., -0.0349, -0.0106,  0.0268]],\n",
      "       requires_grad=True) torch.Size([128, 784])\n",
      "hidden1.bias Parameter containing:\n",
      "tensor([ 1.9447e-02,  1.2705e-02,  1.5845e-02,  2.2677e-02, -1.7735e-02,\n",
      "        -3.2554e-03, -3.1143e-02, -2.1092e-02, -4.2345e-03, -3.4187e-02,\n",
      "        -3.2269e-02, -3.2949e-02,  2.5387e-02, -5.7832e-03,  1.5954e-02,\n",
      "         8.1335e-03,  3.4432e-02, -1.4445e-02, -3.3793e-02, -1.3078e-02,\n",
      "        -5.4396e-03, -2.8334e-02,  1.8980e-02,  6.0189e-03, -9.1265e-03,\n",
      "        -2.7135e-02,  3.0051e-02, -1.0267e-02,  3.3394e-02, -1.7965e-02,\n",
      "        -2.5515e-02,  1.4493e-02, -1.0494e-02,  2.0998e-02, -2.2180e-02,\n",
      "         4.6195e-03,  1.4503e-02,  1.5807e-02, -3.1828e-02,  7.0937e-03,\n",
      "         2.7857e-02,  9.5732e-03, -4.9898e-03,  1.3538e-02, -2.2882e-02,\n",
      "        -1.3384e-02,  6.6030e-03, -1.9811e-02, -3.2729e-02, -1.9821e-02,\n",
      "        -1.9127e-03,  2.4168e-03,  3.4775e-02, -1.2045e-02, -1.5137e-02,\n",
      "         1.8726e-02, -2.9014e-02,  2.2268e-02,  4.3167e-03, -3.0147e-02,\n",
      "        -2.7516e-02,  2.0100e-02,  1.7075e-02, -2.9315e-02, -2.1370e-02,\n",
      "         1.3237e-02,  1.1968e-02,  2.5387e-02,  1.9980e-02, -1.8904e-02,\n",
      "        -8.7278e-04,  2.2536e-02, -1.5484e-02, -3.4645e-02, -1.9632e-02,\n",
      "         2.0048e-02, -2.5144e-02,  3.6520e-03, -3.3567e-02,  2.1078e-03,\n",
      "        -1.8575e-02,  3.4517e-02, -2.0083e-02,  1.7393e-02, -1.2701e-02,\n",
      "         5.9397e-03,  8.4525e-03,  1.6829e-02,  3.5251e-02, -9.9494e-03,\n",
      "        -1.9729e-02,  1.3575e-02,  3.4866e-02,  3.0715e-03, -1.6399e-02,\n",
      "         1.5103e-02,  7.8978e-03,  9.1847e-05,  9.7695e-03,  1.8632e-02,\n",
      "         1.1395e-02,  3.3793e-02,  3.5269e-02,  1.3601e-02,  3.1940e-02,\n",
      "        -6.3365e-03,  2.1417e-02,  3.3669e-02,  2.7438e-02, -1.7515e-02,\n",
      "         1.1083e-02, -1.8874e-02,  2.0831e-02,  3.6277e-03,  3.1787e-02,\n",
      "         3.5047e-02, -2.2913e-02, -2.7180e-02, -2.9418e-02, -3.0331e-02,\n",
      "         2.4917e-02, -2.9122e-02,  3.7843e-04,  1.6814e-02,  9.6959e-03,\n",
      "        -1.6655e-02,  2.1739e-02, -2.0480e-02], requires_grad=True) torch.Size([128])\n",
      "hidden2.weight Parameter containing:\n",
      "tensor([[-0.0735, -0.0461,  0.0861,  ...,  0.0744,  0.0240,  0.0208],\n",
      "        [-0.0178, -0.0136, -0.0511,  ...,  0.0138,  0.0239, -0.0872],\n",
      "        [ 0.0265,  0.0561,  0.0755,  ...,  0.0173, -0.0757, -0.0866],\n",
      "        ...,\n",
      "        [ 0.0137, -0.0869,  0.0332,  ..., -0.0572,  0.0671, -0.0040],\n",
      "        [ 0.0027,  0.0692, -0.0284,  ...,  0.0558,  0.0058,  0.0360],\n",
      "        [-0.0542, -0.0368,  0.0258,  ..., -0.0353,  0.0754, -0.0228]],\n",
      "       requires_grad=True) torch.Size([256, 128])\n",
      "hidden2.bias Parameter containing:\n",
      "tensor([ 0.0732,  0.0307,  0.0810,  0.0648, -0.0106,  0.0234, -0.0863, -0.0459,\n",
      "         0.0706, -0.0838,  0.0603,  0.0409,  0.0316,  0.0288, -0.0285, -0.0286,\n",
      "         0.0600, -0.0219, -0.0304, -0.0114,  0.0827,  0.0637,  0.0372,  0.0195,\n",
      "        -0.0424,  0.0115,  0.0460, -0.0161, -0.0033,  0.0654, -0.0709, -0.0552,\n",
      "         0.0636, -0.0839,  0.0565,  0.0740,  0.0688,  0.0266, -0.0591,  0.0085,\n",
      "        -0.0307,  0.0231, -0.0464, -0.0006, -0.0325, -0.0500, -0.0746, -0.0319,\n",
      "         0.0441,  0.0662,  0.0548,  0.0326, -0.0739,  0.0321,  0.0297, -0.0803,\n",
      "        -0.0846, -0.0504, -0.0577,  0.0714,  0.0182,  0.0362, -0.0632,  0.0212,\n",
      "         0.0878, -0.0160, -0.0481, -0.0657, -0.0329,  0.0682, -0.0346, -0.0840,\n",
      "        -0.0276,  0.0439,  0.0714, -0.0287, -0.0448,  0.0036,  0.0718,  0.0747,\n",
      "        -0.0542, -0.0298,  0.0109,  0.0481,  0.0235,  0.0489,  0.0183,  0.0772,\n",
      "         0.0205, -0.0221, -0.0562, -0.0808,  0.0357, -0.0296, -0.0405,  0.0391,\n",
      "        -0.0455,  0.0862,  0.0534,  0.0233,  0.0631, -0.0560,  0.0215,  0.0670,\n",
      "         0.0098, -0.0312, -0.0375,  0.0506, -0.0786, -0.0294, -0.0360,  0.0758,\n",
      "        -0.0122,  0.0383, -0.0882,  0.0287, -0.0085, -0.0164,  0.0346,  0.0259,\n",
      "         0.0291, -0.0867, -0.0142,  0.0753, -0.0290, -0.0108, -0.0531, -0.0108,\n",
      "         0.0092,  0.0243,  0.0049, -0.0775,  0.0129, -0.0858,  0.0008, -0.0467,\n",
      "        -0.0535,  0.0736,  0.0349, -0.0270, -0.0301,  0.0324,  0.0675,  0.0046,\n",
      "         0.0295,  0.0464,  0.0753,  0.0750, -0.0213, -0.0520, -0.0216, -0.0202,\n",
      "        -0.0182, -0.0521, -0.0465,  0.0811,  0.0364,  0.0628, -0.0612, -0.0158,\n",
      "        -0.0496, -0.0722, -0.0048,  0.0124, -0.0780,  0.0598, -0.0498, -0.0541,\n",
      "        -0.0647,  0.0019, -0.0609, -0.0436,  0.0100,  0.0758, -0.0421,  0.0837,\n",
      "        -0.0879, -0.0651,  0.0005, -0.0847, -0.0353,  0.0501, -0.0545, -0.0323,\n",
      "         0.0119, -0.0840, -0.0845,  0.0239,  0.0329, -0.0344, -0.0124, -0.0166,\n",
      "         0.0550, -0.0434,  0.0433,  0.0106,  0.0419,  0.0140, -0.0627,  0.0815,\n",
      "         0.0545, -0.0622,  0.0791,  0.0449, -0.0483,  0.0410,  0.0283,  0.0817,\n",
      "        -0.0847, -0.0282, -0.0186, -0.0399,  0.0217, -0.0633, -0.0047, -0.0471,\n",
      "         0.0182,  0.0315,  0.0722, -0.0184, -0.0699,  0.0168,  0.0137, -0.0169,\n",
      "         0.0294, -0.0079, -0.0016,  0.0432, -0.0232, -0.0049, -0.0423,  0.0015,\n",
      "        -0.0772,  0.0821, -0.0126, -0.0299,  0.0455,  0.0563,  0.0074, -0.0430,\n",
      "        -0.0584,  0.0301,  0.0196,  0.0790,  0.0603, -0.0603,  0.0330,  0.0402,\n",
      "         0.0295, -0.0440, -0.0628, -0.0401,  0.0048,  0.0873, -0.0425,  0.0495],\n",
      "       requires_grad=True) torch.Size([256])\n",
      "out.weight Parameter containing:\n",
      "tensor([[-0.0007,  0.0493,  0.0420,  ...,  0.0258, -0.0125, -0.0508],\n",
      "        [ 0.0011, -0.0470, -0.0190,  ..., -0.0059,  0.0517, -0.0372],\n",
      "        [-0.0340,  0.0025, -0.0073,  ..., -0.0542,  0.0528,  0.0017],\n",
      "        ...,\n",
      "        [-0.0447,  0.0183,  0.0585,  ..., -0.0415,  0.0597,  0.0110],\n",
      "        [ 0.0433,  0.0064,  0.0318,  ..., -0.0358, -0.0442,  0.0142],\n",
      "        [-0.0189, -0.0209,  0.0094,  ..., -0.0444, -0.0065, -0.0042]],\n",
      "       requires_grad=True) torch.Size([10, 256])\n",
      "out.bias Parameter containing:\n",
      "tensor([-0.0243, -0.0092, -0.0252, -0.0328,  0.0249,  0.0247, -0.0290, -0.0543,\n",
      "        -0.0269,  0.0282], requires_grad=True) torch.Size([10])\n"
     ]
    }
   ],
   "source": [
    "for name, parameter in net.named_parameters():\n",
    "    print(name, parameter,parameter.size())"
   ]
  },
  {
   "cell_type": "markdown",
   "metadata": {},
   "source": []
  },
  {
   "cell_type": "code",
   "execution_count": 11,
   "metadata": {
    "collapsed": true,
    "ExecuteTime": {
     "end_time": "2024-03-16T12:36:39.010596Z",
     "start_time": "2024-03-16T12:36:38.993691Z"
    }
   },
   "outputs": [],
   "source": [
    "from torch.utils.data import TensorDataset\n",
    "from torch.utils.data import DataLoader\n",
    "\n",
    "train_ds = TensorDataset(x_train, y_train)\n",
    "train_dl = DataLoader(train_ds, batch_size=bs, shuffle=True)\n",
    "\n",
    "valid_ds = TensorDataset(x_valid, y_valid)\n",
    "valid_dl = DataLoader(valid_ds, batch_size=bs * 2)"
   ]
  },
  {
   "cell_type": "code",
   "execution_count": 12,
   "metadata": {
    "collapsed": true,
    "ExecuteTime": {
     "end_time": "2024-03-16T12:36:39.022370Z",
     "start_time": "2024-03-16T12:36:38.999845Z"
    }
   },
   "outputs": [],
   "source": [
    "def get_data(train_ds, valid_ds, bs):\n",
    "    return (\n",
    "        DataLoader(train_ds, batch_size=bs, shuffle=True),\n",
    "        DataLoader(valid_ds, batch_size=bs * 2),\n",
    "    )"
   ]
  },
  {
   "cell_type": "markdown",
   "metadata": {},
   "source": [
    "- 一般在训练模型时加上model.train()，这样会正常使用Batch Normalization和 Dropout\n",
    "- 测试的时候一般选择model.eval()，这样就不会使用Batch Normalization和 Dropout"
   ]
  },
  {
   "cell_type": "code",
   "execution_count": 13,
   "metadata": {
    "collapsed": true,
    "ExecuteTime": {
     "end_time": "2024-03-16T12:36:39.112002Z",
     "start_time": "2024-03-16T12:36:39.006707Z"
    }
   },
   "outputs": [],
   "source": [
    "import numpy as np\n",
    "\n",
    "def fit(steps, model, loss_func, opt, train_dl, valid_dl):\n",
    "    for step in range(steps):\n",
    "        model.train()\n",
    "        for xb, yb in train_dl:\n",
    "            loss_batch(model, loss_func, xb, yb, opt)\n",
    "\n",
    "        model.eval()\n",
    "        with torch.no_grad():\n",
    "            losses, nums = zip(\n",
    "                *[loss_batch(model, loss_func, xb, yb) for xb, yb in valid_dl]\n",
    "            )\n",
    "        val_loss = np.sum(np.multiply(losses, nums)) / np.sum(nums)\n",
    "        print('current step:'+str(step), 'validata loss：'+str(val_loss))"
   ]
  },
  {
   "cell_type": "code",
   "execution_count": 14,
   "metadata": {
    "collapsed": true,
    "ExecuteTime": {
     "end_time": "2024-03-16T12:36:39.137063Z",
     "start_time": "2024-03-16T12:36:39.020640Z"
    }
   },
   "outputs": [],
   "source": [
    "from torch import optim\n",
    "def get_model():\n",
    "    model = Mnist_NN()\n",
    "    return model, optim.SGD(model.parameters(), lr=0.001)"
   ]
  },
  {
   "cell_type": "code",
   "execution_count": 15,
   "metadata": {
    "collapsed": true,
    "ExecuteTime": {
     "end_time": "2024-03-16T12:36:39.137701Z",
     "start_time": "2024-03-16T12:36:39.024938Z"
    }
   },
   "outputs": [],
   "source": [
    "def loss_batch(model, loss_func, xb, yb, opt=None):\n",
    "    loss = loss_func(model(xb), yb)\n",
    "\n",
    "    if opt is not None:\n",
    "        loss.backward()\n",
    "        opt.step()\n",
    "        opt.zero_grad()\n",
    "\n",
    "    return loss.item(), len(xb)"
   ]
  },
  {
   "cell_type": "markdown",
   "metadata": {},
   "source": []
  },
  {
   "cell_type": "code",
   "execution_count": 16,
   "metadata": {
    "ExecuteTime": {
     "end_time": "2024-03-16T12:37:22.424713Z",
     "start_time": "2024-03-16T12:36:39.029204Z"
    }
   },
   "outputs": [
    {
     "name": "stdout",
     "output_type": "stream",
     "text": [
      "current step:0 validata loss：2.274876287841797\n",
      "current step:1 validata loss：2.2351714584350586\n",
      "current step:2 validata loss：2.1751660999298097\n",
      "current step:3 validata loss：2.0794612018585203\n",
      "current step:4 validata loss：1.9270769945144652\n",
      "current step:5 validata loss：1.7027241640090942\n",
      "current step:6 validata loss：1.4318950012207032\n",
      "current step:7 validata loss：1.18191669921875\n",
      "current step:8 validata loss：0.9887339405059814\n",
      "current step:9 validata loss：0.8478249402046204\n",
      "current step:10 validata loss：0.7460589282035828\n",
      "current step:11 validata loss：0.670367594909668\n",
      "current step:12 validata loss：0.6121180950164795\n",
      "current step:13 validata loss：0.5675029455184937\n",
      "current step:14 validata loss：0.5324508429527283\n",
      "current step:15 validata loss：0.5044784235477447\n",
      "current step:16 validata loss：0.4811060421943665\n",
      "current step:17 validata loss：0.46241131772995\n",
      "current step:18 validata loss：0.44589494609832764\n",
      "current step:19 validata loss：0.43183315949440004\n",
      "current step:20 validata loss：0.420093358039856\n",
      "current step:21 validata loss：0.4093876441001892\n",
      "current step:22 validata loss：0.40013678381443024\n",
      "current step:23 validata loss：0.3923094032049179\n",
      "current step:24 validata loss：0.384129670214653\n"
     ]
    }
   ],
   "source": [
    "train_dl, valid_dl = get_data(train_ds, valid_ds, bs)\n",
    "model, opt = get_model()\n",
    "fit(25, model, loss_func, opt, train_dl, valid_dl)"
   ]
  },
  {
   "cell_type": "code",
   "execution_count": 16,
   "metadata": {
    "collapsed": true,
    "ExecuteTime": {
     "end_time": "2024-03-16T12:37:22.425618Z",
     "start_time": "2024-03-16T12:37:22.415149Z"
    }
   },
   "outputs": [],
   "source": []
  }
 ],
 "metadata": {
  "kernelspec": {
   "display_name": "Python 3",
   "language": "python",
   "name": "python3"
  },
  "language_info": {
   "codemirror_mode": {
    "name": "ipython",
    "version": 3
   },
   "file_extension": ".py",
   "mimetype": "text/x-python",
   "name": "python",
   "nbconvert_exporter": "python",
   "pygments_lexer": "ipython3",
   "version": "3.6.3"
  }
 },
 "nbformat": 4,
 "nbformat_minor": 1
}
